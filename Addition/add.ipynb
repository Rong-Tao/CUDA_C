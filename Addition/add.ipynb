{
 "cells": [
  {
   "cell_type": "code",
   "execution_count": 75,
   "metadata": {},
   "outputs": [
    {
     "name": "stdout",
     "output_type": "stream",
     "text": [
      "Python => The result is: 7\n",
      "C => Add: 3 and 4\n",
      "C => Result: 7\n",
      "\n"
     ]
    }
   ],
   "source": [
    "import ctypes\n",
    "\n",
    "# Load the shared library\n",
    "addition = ctypes.CDLL('./add.so')\n",
    "addition.add.argtypes = [ctypes.c_int, ctypes.c_int]\n",
    "addition.add.restype = ctypes.c_int\n",
    "\n",
    "# Call the add function\n",
    "result = addition.add(3, 4)\n",
    "print(f\"Python => The result is: {result}\\n\")\n",
    "'''\n",
    "NOTE: C is after python print\n",
    "'''"
   ]
  }
 ],
 "metadata": {
  "kernelspec": {
   "display_name": "cv",
   "language": "python",
   "name": "python3"
  },
  "language_info": {
   "codemirror_mode": {
    "name": "ipython",
    "version": 3
   },
   "file_extension": ".py",
   "mimetype": "text/x-python",
   "name": "python",
   "nbconvert_exporter": "python",
   "pygments_lexer": "ipython3",
   "version": "3.11.4"
  }
 },
 "nbformat": 4,
 "nbformat_minor": 2
}
