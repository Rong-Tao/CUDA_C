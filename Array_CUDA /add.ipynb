{
 "cells": [
  {
   "cell_type": "code",
   "execution_count": 5,
   "metadata": {},
   "outputs": [
    {
     "name": "stdout",
     "output_type": "stream",
     "text": [
      "float32\n"
     ]
    }
   ],
   "source": [
    "import numpy as np\n",
    "import ctypes\n",
    "\n",
    "# Your arrays\n",
    "a = np.random.rand(30000,10000).astype(np.float32)\n",
    "b = np.random.rand(30000,10000).astype(np.float32)\n",
    "c = np.zeros_like(a)\n",
    "d = np.zeros_like(a)\n",
    "print(a.dtype)\n",
    "addition = ctypes.CDLL('./add.so')\n",
    "\n",
    "addition.kernel_launcher.argtypes = [np.ctypeslib.ndpointer(dtype=np.float32),\n",
    "                                     np.ctypeslib.ndpointer(dtype=np.float32),\n",
    "                                     np.ctypeslib.ndpointer(dtype=np.float32),\n",
    "                                     ctypes.c_int]"
   ]
  },
  {
   "cell_type": "code",
   "execution_count": 6,
   "metadata": {},
   "outputs": [
    {
     "data": {
      "text/plain": [
       "0"
      ]
     },
     "execution_count": 6,
     "metadata": {},
     "output_type": "execute_result"
    }
   ],
   "source": [
    "addition.kernel_launcher(a, b, c, a.shape[0],a.shape[1])"
   ]
  },
  {
   "cell_type": "code",
   "execution_count": 7,
   "metadata": {},
   "outputs": [],
   "source": [
    "d = a+b"
   ]
  },
  {
   "cell_type": "code",
   "execution_count": 8,
   "metadata": {},
   "outputs": [
    {
     "data": {
      "text/plain": [
       "0.0"
      ]
     },
     "execution_count": 8,
     "metadata": {},
     "output_type": "execute_result"
    }
   ],
   "source": [
    "np.sum(c-d)"
   ]
  }
 ],
 "metadata": {
  "kernelspec": {
   "display_name": "cv",
   "language": "python",
   "name": "python3"
  },
  "language_info": {
   "codemirror_mode": {
    "name": "ipython",
    "version": 3
   },
   "file_extension": ".py",
   "mimetype": "text/x-python",
   "name": "python",
   "nbconvert_exporter": "python",
   "pygments_lexer": "ipython3",
   "version": "3.11.4"
  }
 },
 "nbformat": 4,
 "nbformat_minor": 2
}
