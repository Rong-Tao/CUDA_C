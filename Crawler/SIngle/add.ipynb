{
 "cells": [
  {
   "cell_type": "code",
   "execution_count": 1,
   "metadata": {},
   "outputs": [],
   "source": [
    "import ctypes\n",
    "import numpy as np\n",
    "\n",
    "def call_cuda_find_intersection(list1, list2, deltax, deltay):\n",
    "    lib = ctypes.CDLL('./findIntersection.so')\n",
    "\n",
    "    # Flatten and convert the lists of tuples to NumPy arrays\n",
    "    list1_flat = np.array([val for tup in list1 for val in tup], dtype = np.int32)\n",
    "    list2_flat = np.array([val for tup in list2 for val in tup], dtype = np.int32)\n",
    "    \n",
    "    print(list1_flat)\n",
    "    print(list2_flat)\n",
    "\n",
    "    result = np.zeros(len(list1_flat)//2, dtype=np.int32)\n",
    "    print(result)\n",
    "    lib.launchFindIntersection.argtypes = [\n",
    "        np.ctypeslib.ndpointer(dtype=np.int32),  # list1\n",
    "        np.ctypeslib.ndpointer(dtype=np.int32),  # list2\n",
    "        ctypes.c_int,  # list1Size\n",
    "        ctypes.c_int,  # list2Size\n",
    "        ctypes.c_int,  # deltax\n",
    "        ctypes.c_int,  # deltay\n",
    "        np.ctypeslib.ndpointer(dtype=np.int32)   # result\n",
    "    ]\n",
    "\n",
    "    lib.launchFindIntersection(\n",
    "        list1_flat, list2_flat,\n",
    "        len(list1_flat) // 2, \n",
    "        len(list2_flat) // 2,\n",
    "        deltax, \n",
    "        deltay,\n",
    "        result\n",
    "    )\n",
    "    print(result)\n",
    "    # Extract the intersecting points\n",
    "    intersecting_points = [(list1_flat[i * 2] + deltax, list1_flat[i * 2 + 1] + deltay) for i in range(len(result)) if result[i] == 1]\n",
    "    return intersecting_points"
   ]
  },
  {
   "cell_type": "code",
   "execution_count": 2,
   "metadata": {},
   "outputs": [
    {
     "name": "stdout",
     "output_type": "stream",
     "text": [
      "[ 9 63 10 63]\n",
      "[ 9 61 20 63]\n",
      "[0 0]\n",
      "[1 0]\n",
      "Intersection Result: [(9, 61)]\n"
     ]
    }
   ],
   "source": [
    "list1 = [(9, 63), (10, 63)]  # example list1\n",
    "list2 = [(9, 61), (20, 63)]  # example list2\n",
    "\n",
    "deltax = 0\n",
    "deltay = -2\n",
    "\n",
    "intersection_result = call_cuda_find_intersection(list1, list2, deltax, deltay)\n",
    "print(\"Intersection Result:\", intersection_result)"
   ]
  }
 ],
 "metadata": {
  "kernelspec": {
   "display_name": "cv",
   "language": "python",
   "name": "python3"
  },
  "language_info": {
   "codemirror_mode": {
    "name": "ipython",
    "version": 3
   },
   "file_extension": ".py",
   "mimetype": "text/x-python",
   "name": "python",
   "nbconvert_exporter": "python",
   "pygments_lexer": "ipython3",
   "version": "3.11.4"
  }
 },
 "nbformat": 4,
 "nbformat_minor": 2
}
