{
 "cells": [
  {
   "cell_type": "code",
   "execution_count": 1,
   "metadata": {},
   "outputs": [],
   "source": [
    "import numpy as np\n",
    "a = np.array([(3, 6), (3, 7), (9, 9)])\n",
    "b = np.array([(3, 6), (4, 6), (6, 6)])\n",
    "w = 10\n",
    "def coords_to_indices(coords, width):\n",
    "    return coords[:, 1] * width + coords[:, 0]\n",
    "def indices_to_coords(indices, width):\n",
    "    y = indices // width\n",
    "    x = indices % width\n",
    "    return np.vstack((x, y)).T"
   ]
  },
  {
   "cell_type": "code",
   "execution_count": 2,
   "metadata": {},
   "outputs": [],
   "source": [
    "import ctypes\n",
    "import numpy as np\n",
    "\n",
    "def call_cuda_find_intersection(list1, list2, deltax, deltay, width):\n",
    "    lib = ctypes.CDLL('./findIntersection.so')\n",
    "\n",
    "    list1_indices, list2_indices = coords_to_indices(list1, width).astype(np.int32), coords_to_indices(list2, width).astype(np.int32)\n",
    "\n",
    "    result = np.zeros(len(list1_indices), dtype=np.int32)\n",
    "    \n",
    "    lib.launchFindIntersection.argtypes = [\n",
    "        np.ctypeslib.ndpointer(dtype=np.int32),  # list1\n",
    "        np.ctypeslib.ndpointer(dtype=np.int32),  # list2\n",
    "        ctypes.c_int,  # list1Size\n",
    "        ctypes.c_int,  # list2Size\n",
    "        ctypes.c_int,  # deltax\n",
    "        ctypes.c_int,  # deltay\n",
    "        np.ctypeslib.ndpointer(dtype=np.int32)   # result\n",
    "    ]\n",
    "\n",
    "    lib.launchFindIntersection(\n",
    "        list1_indices, \n",
    "        list2_indices,\n",
    "        len(list1_indices), \n",
    "        len(list2_indices),\n",
    "        deltax, \n",
    "        deltay,\n",
    "        result\n",
    "    )\n",
    "\n",
    "    print(result)\n",
    "\n",
    "    intersecting_points = [(list1_indices[i * 2] + deltax, list1_indices[i * 2 + 1] + deltay) for i in range(len(result)) if result[i] == 1]\n",
    "    return intersecting_points"
   ]
  },
  {
   "cell_type": "code",
   "execution_count": 3,
   "metadata": {},
   "outputs": [
    {
     "name": "stdout",
     "output_type": "stream",
     "text": [
      "[63, 73, 99]\n",
      "[63, 64, 66]\n",
      "[63 64 66]\n"
     ]
    },
    {
     "data": {
      "text/plain": [
       "[]"
      ]
     },
     "execution_count": 3,
     "metadata": {},
     "output_type": "execute_result"
    }
   ],
   "source": [
    "call_cuda_find_intersection(a, b, 0, 0, w)"
   ]
  }
 ],
 "metadata": {
  "kernelspec": {
   "display_name": "cv",
   "language": "python",
   "name": "python3"
  },
  "language_info": {
   "codemirror_mode": {
    "name": "ipython",
    "version": 3
   },
   "file_extension": ".py",
   "mimetype": "text/x-python",
   "name": "python",
   "nbconvert_exporter": "python",
   "pygments_lexer": "ipython3",
   "version": "3.11.4"
  }
 },
 "nbformat": 4,
 "nbformat_minor": 2
}
