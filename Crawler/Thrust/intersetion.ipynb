{
 "cells": [
  {
   "cell_type": "code",
   "execution_count": 1,
   "metadata": {},
   "outputs": [
    {
     "name": "stdout",
     "output_type": "stream",
     "text": [
      "[63 73 99 64 66]\n"
     ]
    }
   ],
   "source": [
    "import numpy as np\n",
    "import ctypes\n",
    "\n",
    "def coords_to_indices(coords, width):\n",
    "    return coords[:, 1] * width + coords[:, 0]\n",
    "\n",
    "def indices_to_coords(indices, width):\n",
    "    y = indices // width\n",
    "    x = indices % width\n",
    "    return np.vstack((x, y)).T\n",
    "\n",
    "a = np.array([(3, 6), (3, 7), (9, 9)])\n",
    "b = np.array([(3, 6), (4, 6), (6, 6)])\n",
    "w = 10\n",
    "\n",
    "list1_indices = coords_to_indices(a, w).astype(np.int32)\n",
    "list2_indices = coords_to_indices(b, w).astype(np.int32)\n",
    "\n",
    "lib = ctypes.CDLL('./findIntersection.so')\n",
    "\n",
    "# Define argument types and return type for the CUDA function\n",
    "lib.launchFindIntersection.argtypes = [\n",
    "    np.ctypeslib.ndpointer(dtype=np.int32),  # list1\n",
    "    np.ctypeslib.ndpointer(dtype=np.int32),  # list2\n",
    "    ctypes.c_int,  # list1Size\n",
    "    ctypes.c_int,  # list2Size\n",
    "    np.ctypeslib.ndpointer(dtype=np.int32)   # result\n",
    "]\n",
    "lib.launchFindIntersection.restype = ctypes.c_int\n",
    "\n",
    "result = np.zeros(len(list1_indices) + len(list2_indices), dtype=np.int32)\n",
    "\n",
    "# Call the CUDA function and get the size of the union\n",
    "union_size = lib.launchFindIntersection(\n",
    "    list1_indices,\n",
    "    list2_indices,\n",
    "    len(list1_indices),\n",
    "    len(list2_indices),\n",
    "    result\n",
    ")\n",
    "\n",
    "# Slice the result array to get the actual union\n",
    "union_result = result[:union_size]\n",
    "\n",
    "print(union_result)"
   ]
  }
 ],
 "metadata": {
  "kernelspec": {
   "display_name": "cv",
   "language": "python",
   "name": "python3"
  },
  "language_info": {
   "codemirror_mode": {
    "name": "ipython",
    "version": 3
   },
   "file_extension": ".py",
   "mimetype": "text/x-python",
   "name": "python",
   "nbconvert_exporter": "python",
   "pygments_lexer": "ipython3",
   "version": "3.11.4"
  }
 },
 "nbformat": 4,
 "nbformat_minor": 2
}
