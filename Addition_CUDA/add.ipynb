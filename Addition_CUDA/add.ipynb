{
 "cells": [
  {
   "cell_type": "code",
   "execution_count": 5,
   "metadata": {},
   "outputs": [],
   "source": [
    "import ctypes\n",
    "import time\n",
    "import functools\n",
    "\n",
    "def tictoc(func):\n",
    "    @functools.wraps(func)\n",
    "    def wrapper(*args, **kwargs):\n",
    "        start_time = time.time()\n",
    "        result = func(*args, **kwargs)\n",
    "        end_time = time.time()\n",
    "        time_taken = end_time - start_time\n",
    "        print(f\"Function '{func.__name__}' executed in {time_taken:.4f} seconds\")\n",
    "        return result\n",
    "    return wrapper"
   ]
  },
  {
   "cell_type": "code",
   "execution_count": 6,
   "metadata": {},
   "outputs": [
    {
     "name": "stdout",
     "output_type": "stream",
     "text": [
      "Kernel => Sum = 521200\n",
      "Function 'run_kernel_launcher' executed in 0.0004 seconds\n",
      "Python => The CUDA result is: 524800\n",
      "Function 'python_code' executed in 0.0000 seconds\n",
      "Python => The python result is: None\n",
      "C => Sum = 524800\n"
     ]
    }
   ],
   "source": [
    "# Load the shared library\n",
    "addition = ctypes.CDLL('./add.so')\n",
    "addition.kernel_launcher.argtypes = [ctypes.c_int]\n",
    "addition.kernel_launcher.restype = ctypes.c_int\n",
    "@tictoc\n",
    "def run_kernel_launcher(i):\n",
    "    return addition.kernel_launcher(i)\n",
    "@tictoc\n",
    "def python_code(i):\n",
    "    result = 0\n",
    "    for i in range(i):\n",
    "        result += i+1\n",
    "threads = 1024\n",
    "result = run_kernel_launcher(threads)\n",
    "print(f\"Python => The CUDA result is: {result}\")\n",
    "result = python_code(threads)\n",
    "print(f\"Python => The python result is: {result}\")"
   ]
  },
  {
   "cell_type": "code",
   "execution_count": null,
   "metadata": {},
   "outputs": [],
   "source": []
  }
 ],
 "metadata": {
  "kernelspec": {
   "display_name": "cv",
   "language": "python",
   "name": "python3"
  },
  "language_info": {
   "codemirror_mode": {
    "name": "ipython",
    "version": 3
   },
   "file_extension": ".py",
   "mimetype": "text/x-python",
   "name": "python",
   "nbconvert_exporter": "python",
   "pygments_lexer": "ipython3",
   "version": "3.11.4"
  }
 },
 "nbformat": 4,
 "nbformat_minor": 2
}
